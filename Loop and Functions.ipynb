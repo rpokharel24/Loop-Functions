{
 "cells": [
  {
   "cell_type": "code",
   "execution_count": 2,
   "id": "95e0b629-99d4-491d-b84b-2a0d9450e030",
   "metadata": {},
   "outputs": [
    {
     "name": "stdout",
     "output_type": "stream",
     "text": [
      "0 is neither Odd nor Even number\n",
      "1 is an odd number\n",
      "2 is an odd number\n",
      "3 is an odd number\n",
      "4 is an odd number\n",
      "5 is an odd number\n",
      "6 is an odd number\n",
      "7 is an odd number\n",
      "8 is an odd number\n",
      "9 is an odd number\n",
      "10 is an odd number\n",
      "11 is an odd number\n",
      "12 is an odd number\n",
      "13 is an odd number\n",
      "14 is an odd number\n",
      "15 is an odd number\n",
      "16 is an odd number\n",
      "17 is an odd number\n",
      "18 is an odd number\n",
      "19 is an odd number\n",
      "20 is an odd number\n",
      "21 is an odd number\n",
      "22 is an odd number\n",
      "23 is an odd number\n",
      "24 is an odd number\n",
      "25 is an odd number\n",
      "26 is an odd number\n",
      "27 is an odd number\n",
      "28 is an odd number\n",
      "29 is an odd number\n",
      "30 is an odd number\n",
      "31 is an odd number\n",
      "32 is an odd number\n",
      "33 is an odd number\n",
      "34 is an odd number\n",
      "35 is an odd number\n",
      "36 is an odd number\n",
      "37 is an odd number\n",
      "38 is an odd number\n",
      "39 is an odd number\n",
      "40 is an odd number\n",
      "41 is an odd number\n",
      "42 is an odd number\n",
      "43 is an odd number\n",
      "44 is an odd number\n",
      "45 is an odd number\n",
      "46 is an odd number\n",
      "47 is an odd number\n",
      "48 is an odd number\n",
      "49 is an odd number\n"
     ]
    }
   ],
   "source": [
    "a=0\n",
    "while a<50:\n",
    "    if a==0:\n",
    "        print(f'{a} is neither Odd nor Even number')\n",
    "        a+=1\n",
    "    elif a%2==0:\n",
    "        print(f'{a} is an odd number')\n",
    "        a+=1\n",
    "    else:\n",
    "        print(f'{a} is an odd number')\n",
    "        a+=1"
   ]
  },
  {
   "cell_type": "code",
   "execution_count": 7,
   "id": "06d4d821-0d5a-4629-be72-5acdb76b880f",
   "metadata": {},
   "outputs": [
    {
     "name": "stdout",
     "output_type": "stream",
     "text": [
      "The total bill is 399\n",
      "The everage of Money spent is 79.8\n"
     ]
    }
   ],
   "source": [
    "bill=[45,66,78,90,120]\n",
    "total_bill=0\n",
    "for a in bill:\n",
    "    total_bill+=a\n",
    "print(f'The total bill is {total_bill}')\n",
    "print(f'The everage of Money spent is {total_bill/len(bill)}')"
   ]
  },
  {
   "cell_type": "code",
   "execution_count": 1,
   "id": "a903cadb-1843-498f-b9a2-9e2d2aed8332",
   "metadata": {},
   "outputs": [
    {
     "name": "stdin",
     "output_type": "stream",
     "text": [
      "Enter a number: 15\n"
     ]
    },
    {
     "name": "stdout",
     "output_type": "stream",
     "text": [
      "0\n"
     ]
    }
   ],
   "source": [
    "1. Sum of N Natural numbers (For Loop)\n",
    "Write a python program to calculate the sum of the first n natural using a for loop.Example: Input:5 Output: 15 "
   ]
  },
  {
   "cell_type": "code",
   "execution_count": 7,
   "id": "b9a67427-9a19-411a-ad4f-382bbb38c23b",
   "metadata": {},
   "outputs": [
    {
     "name": "stdin",
     "output_type": "stream",
     "text": [
      "Enter the number till which you want the sum 60\n"
     ]
    },
    {
     "name": "stdout",
     "output_type": "stream",
     "text": [
      "The sum of the number 60 is 1830\n"
     ]
    }
   ],
   "source": [
    "num=int(input('Enter the number till which you want the sum'))\n",
    "sum=0\n",
    "for i in range(num+1):\n",
    "    sum=sum+i\n",
    "print(f'The sum of the number {num} is {sum}')"
   ]
  },
  {
   "cell_type": "markdown",
   "id": "bf7e4599-d147-4921-bd34-c8d63e2bee06",
   "metadata": {},
   "source": [
    "2. Factorial Calculations (While Loop)\n",
    "   Write a Python program to find the factorial of a given number using a while loop. "
   ]
  },
  {
   "cell_type": "code",
   "execution_count": 1,
   "id": "5deeb5ae-330f-43d6-a0c5-67c4abc576ba",
   "metadata": {},
   "outputs": [
    {
     "name": "stdin",
     "output_type": "stream",
     "text": [
      "Enter the number till which you want the Factorial:  50\n"
     ]
    },
    {
     "name": "stdout",
     "output_type": "stream",
     "text": [
      "1\n"
     ]
    }
   ],
   "source": [
    "num1=int(input('Enter the number till which you want the Factorial: '))\n",
    "factorial=1\n",
    "for i in range(1,num1+1):\n",
    "    factorial=factorial*1\n",
    "print(factorial)"
   ]
  },
  {
   "cell_type": "markdown",
   "id": "3019f82f-d5f2-4aad-bd87-f064290563d6",
   "metadata": {},
   "source": [
    "4. Reverse a String (While Loop)\n",
    "Write a Python program that reverses a given string using a while loop. Example input \"hello\" output \"olleh\""
   ]
  },
  {
   "cell_type": "code",
   "execution_count": 1,
   "id": "b36d49d4-1020-4d7e-9a9d-bfa8393e2bf5",
   "metadata": {},
   "outputs": [
    {
     "name": "stdin",
     "output_type": "stream",
     "text": [
      "Enter the string that you want to reverse : hello\n"
     ]
    },
    {
     "name": "stdout",
     "output_type": "stream",
     "text": [
      "olleh\n"
     ]
    }
   ],
   "source": [
    "# For Loop\n",
    "string=input('Enter the string that you want to reverse :')\n",
    "e_str=\"\"\n",
    "for i in string:\n",
    "    e_str=i+e_str\n",
    "print(e_str)"
   ]
  },
  {
   "cell_type": "code",
   "execution_count": 1,
   "id": "882e8d34-4cfb-4079-b467-04476fe1877a",
   "metadata": {},
   "outputs": [
    {
     "name": "stdin",
     "output_type": "stream",
     "text": [
      "Enter the String that you want to reverse : hello\n"
     ]
    },
    {
     "name": "stdout",
     "output_type": "stream",
     "text": [
      "olleh\n"
     ]
    }
   ],
   "source": [
    "string=input('Enter the String that you want to reverse :')\n",
    "e_str=\"\"\n",
    "a=0\n",
    "while a<len(string):\n",
    "    e_str=string[a]+e_str\n",
    "    a=a+1\n",
    "print(e_str)"
   ]
  },
  {
   "cell_type": "markdown",
   "id": "19a1933e-4e97-4ac1-85e6-bf48fba4d156",
   "metadata": {},
   "source": [
    "## Break and Continue"
   ]
  },
  {
   "cell_type": "code",
   "execution_count": 9,
   "id": "7bed7626-f3f5-45b6-a940-5a1125422483",
   "metadata": {},
   "outputs": [
    {
     "name": "stdout",
     "output_type": "stream",
     "text": [
      "0\n",
      "1\n",
      "2\n",
      "4\n",
      "5\n",
      "6\n",
      "7\n",
      "8\n",
      "9\n"
     ]
    }
   ],
   "source": [
    "a=0\n",
    "while a<10:\n",
    "    if a==3:\n",
    "        a+=1\n",
    "        continue\n",
    "    else:\n",
    "        print(f'{a}')\n",
    "        a+=1        "
   ]
  },
  {
   "cell_type": "code",
   "execution_count": 26,
   "id": "c0d416af-52a6-4624-bbe3-04cc9e272d09",
   "metadata": {},
   "outputs": [
    {
     "ename": "SyntaxError",
     "evalue": "expected ':' (406078415.py, line 2)",
     "output_type": "error",
     "traceback": [
      "\u001b[1;36m  Cell \u001b[1;32mIn[26], line 2\u001b[1;36m\u001b[0m\n\u001b[1;33m    if num==1\u001b[0m\n\u001b[1;37m             ^\u001b[0m\n\u001b[1;31mSyntaxError\u001b[0m\u001b[1;31m:\u001b[0m expected ':'\n"
     ]
    }
   ],
   "source": [
    "num=int(input('enter a number here: '))\n",
    "if num==1\n",
    "    print('it is not a prime number')\n",
    "if num>1:\n",
    "    for i in range (2,num)\n",
    "        if num%i==0:\n",
    "for i in range(2, num):\n",
    "    if num%i==0\n",
    "        print('It is not a prime number')\n",
    "else:\n",
    "    print('It is a prime number')"
   ]
  },
  {
   "cell_type": "markdown",
   "id": "0da64e51-96b0-40b9-81df-596c0cd6714e",
   "metadata": {},
   "source": [
    "## Prime Number"
   ]
  },
  {
   "cell_type": "code",
   "execution_count": null,
   "id": "e503bc59-a363-4eaf-bdb6-68bc33db10df",
   "metadata": {},
   "outputs": [],
   "source": []
  },
  {
   "cell_type": "markdown",
   "id": "e5a62d15-f332-412d-b42d-99b65fd55d47",
   "metadata": {},
   "source": [
    "## Functions"
   ]
  },
  {
   "cell_type": "code",
   "execution_count": null,
   "id": "d727f22a-309c-4330-8b9a-0773af324e7f",
   "metadata": {},
   "outputs": [],
   "source": []
  },
  {
   "cell_type": "code",
   "execution_count": 33,
   "id": "d8d554c9-cc7c-46b6-b5f9-b316b12b78e7",
   "metadata": {},
   "outputs": [],
   "source": [
    "def add(numOne, numTwo):\n",
    "    return numOne + numTwo"
   ]
  },
  {
   "cell_type": "code",
   "execution_count": 35,
   "id": "fb470eeb-add3-40cf-a2ab-498f7e2b7c9b",
   "metadata": {},
   "outputs": [
    {
     "name": "stdout",
     "output_type": "stream",
     "text": [
      "10\n"
     ]
    }
   ],
   "source": [
    "print(add(5, 5))"
   ]
  },
  {
   "cell_type": "code",
   "execution_count": 37,
   "id": "f70806d3-fdfa-4fe4-ba9d-dfb43f722228",
   "metadata": {},
   "outputs": [
    {
     "data": {
      "text/plain": [
       "10"
      ]
     },
     "execution_count": 37,
     "metadata": {},
     "output_type": "execute_result"
    }
   ],
   "source": [
    ">>> 5 + 5"
   ]
  },
  {
   "cell_type": "code",
   "execution_count": 45,
   "id": "e80b4909-fd04-43c6-8264-19548a995851",
   "metadata": {},
   "outputs": [
    {
     "data": {
      "text/plain": [
       "'hhhhh'"
      ]
     },
     "execution_count": 45,
     "metadata": {},
     "output_type": "execute_result"
    }
   ],
   "source": [
    ">>> \"h\"* 5"
   ]
  },
  {
   "cell_type": "code",
   "execution_count": 47,
   "id": "f67fc357-8d18-420f-a7ab-b64a695475b8",
   "metadata": {},
   "outputs": [
    {
     "data": {
      "text/plain": [
       "25"
      ]
     },
     "execution_count": 47,
     "metadata": {},
     "output_type": "execute_result"
    }
   ],
   "source": [
    ">>> 5 * 5"
   ]
  },
  {
   "cell_type": "code",
   "execution_count": 49,
   "id": "65c544f5-cf19-4429-8eac-f11eb888c559",
   "metadata": {},
   "outputs": [],
   "source": [
    "def multiply (p1, p2):\n",
    "    return p1 * p2"
   ]
  },
  {
   "cell_type": "code",
   "execution_count": 53,
   "id": "b69724f9-2f18-4c46-8e19-ffca028e84b3",
   "metadata": {},
   "outputs": [
    {
     "name": "stdout",
     "output_type": "stream",
     "text": [
      "40\n"
     ]
    }
   ],
   "source": [
    "print(multiply(8, 5))"
   ]
  },
  {
   "cell_type": "code",
   "execution_count": 55,
   "id": "fc3161d1-44ee-444f-8f53-b3b24a2d5c8e",
   "metadata": {},
   "outputs": [
    {
     "name": "stdout",
     "output_type": "stream",
     "text": [
      "aaaaa\n"
     ]
    }
   ],
   "source": [
    "print(multiply('a', 5))"
   ]
  },
  {
   "cell_type": "code",
   "execution_count": null,
   "id": "c3a5b8f6-08f2-49a3-9f82-a806a5f52f9a",
   "metadata": {},
   "outputs": [],
   "source": []
  }
 ],
 "metadata": {
  "kernelspec": {
   "display_name": "Python 3 (ipykernel)",
   "language": "python",
   "name": "python3"
  },
  "language_info": {
   "codemirror_mode": {
    "name": "ipython",
    "version": 3
   },
   "file_extension": ".py",
   "mimetype": "text/x-python",
   "name": "python",
   "nbconvert_exporter": "python",
   "pygments_lexer": "ipython3",
   "version": "3.12.4"
  }
 },
 "nbformat": 4,
 "nbformat_minor": 5
}
